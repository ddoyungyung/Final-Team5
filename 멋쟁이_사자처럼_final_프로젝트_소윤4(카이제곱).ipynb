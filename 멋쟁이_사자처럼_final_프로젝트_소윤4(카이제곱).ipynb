{
  "nbformat": 4,
  "nbformat_minor": 0,
  "metadata": {
    "colab": {
      "provenance": [],
      "authorship_tag": "ABX9TyOGOtVhQxhsW/YbK+z0K/ob",
      "include_colab_link": true
    },
    "kernelspec": {
      "name": "python3",
      "display_name": "Python 3"
    },
    "language_info": {
      "name": "python"
    }
  },
  "cells": [
    {
      "cell_type": "markdown",
      "metadata": {
        "id": "view-in-github",
        "colab_type": "text"
      },
      "source": [
        "<a href=\"https://colab.research.google.com/github/ddoyungyung/Final-Team5/blob/main/%EB%A9%8B%EC%9F%81%EC%9D%B4_%EC%82%AC%EC%9E%90%EC%B2%98%EB%9F%BC_final_%ED%94%84%EB%A1%9C%EC%A0%9D%ED%8A%B8_%EC%86%8C%EC%9C%A44(%EC%B9%B4%EC%9D%B4%EC%A0%9C%EA%B3%B1).ipynb\" target=\"_parent\"><img src=\"https://colab.research.google.com/assets/colab-badge.svg\" alt=\"Open In Colab\"/></a>"
      ]
    },
    {
      "cell_type": "code",
      "execution_count": null,
      "metadata": {
        "id": "qLu7vQPb8Imq"
      },
      "outputs": [],
      "source": [
        "import pandas as pd\n",
        "from collections import Counter\n",
        "from scipy import stats\n",
        "\n",
        "# --- 최종 확정된 키워드 리스트 (수동 + BERT 보강) ---\n",
        "attraction_keywords = ['museum', 'park', 'view', 'beautiful', 'amazing']\n",
        "eat_keywords = ['restaurant', 'bar']\n",
        "transport_keywords = ['great', 'train', 'subway', 'metro', 'bus', 'station', 'metre', 'underground', 'transport', 'access', 'location', 'centre', 'position', 'tube']\n",
        "service_keywords = ['lovely', 'friendly', 'staff', 'helpful', 'balcony', 'room', 'breakfast', 'tidy', 'polite', 'reception', 'front', 'desk', 'value', 'quality', 'check', 'response', 'food', 'drink', 'coffee', 'egg', 'selection']\n",
        "roomsize_keywords = ['tidy', 'narrows', 'narrow', 'compact', 'small', 'tiny']\n",
        "noisy_keywords = ['noise', 'noisy', 'soundproofng', 'soundproof', 'sound', 'sounds']\n",
        "dirty_keywords = ['dirty', 'uncleaned', 'cleaned', 'toilet', 'bathroom', 'pillow', 'bug', 'smell']\n",
        "expensive_keywords = ['expensive', 'price', 'pricy', 'high', 'prices', 'payment']\n",
        "facility_amenity_keywords = ['water', 'hot', 'cold', 'condition', 'wifi', 'bed', 'furniture', 'building', 'carpet', 'window', 'mattress', 'elevator', 'lift', 'fridge', 'lighting', 'tub', 'shower', 'air', 'level', 'audio', 'recording']\n",
        "\n",
        "keyword_categories = {\n",
        "    'attraction': attraction_keywords,\n",
        "    'eat': eat_keywords,\n",
        "    'transport': transport_keywords,\n",
        "    'service': service_keywords,\n",
        "    'roomsize': roomsize_keywords,\n",
        "    'noisy': noisy_keywords,\n",
        "    'dirty': dirty_keywords,\n",
        "    'expensive': expensive_keywords,\n",
        "    'facility_amenity': facility_amenity_keywords\n",
        "}"
      ]
    },
    {
      "cell_type": "code",
      "source": [
        "# 2. 카테고리 라벨링 함수 정의\n",
        "def assign_category(adj, noun):\n",
        "    categories = []\n",
        "    adj_lower = str(adj).lower()\n",
        "    noun_lower = str(noun).lower()\n",
        "    for category, keywords in keyword_categories.items():\n",
        "        if adj_lower in keywords or noun_lower in keywords:\n",
        "            categories.append(category)\n",
        "    return categories if categories else ['other']\n",
        "\n",
        "# 3. 데이터 로드 및 라벨링\n",
        "# 긍정 리뷰 쌍 로드\n",
        "df_pos = pd.read_csv(\"/content/noun_adj_pairs_raw(pos).csv\")\n",
        "# 부정 리뷰 쌍 로드\n",
        "df_neg = pd.read_csv(\"/content/noun_adj_pairs_freq(neg).csv\")"
      ],
      "metadata": {
        "id": "qKFt5U2h8rb0"
      },
      "execution_count": null,
      "outputs": []
    },
    {
      "cell_type": "code",
      "source": [
        "# 4. 각 데이터프레임에 카테고리 라벨링 적용\n",
        "df_pos['categories'] = df_pos.apply(lambda row: assign_category(row['adj'], row['noun']), axis=1)\n",
        "df_neg['categories'] = df_neg.apply(lambda row: assign_category(row['adj'], row['noun']), axis=1)\n",
        "\n",
        "# 5. 카테고리별 빈도수 집계\n",
        "def aggregate_category_counts(df, review_type):\n",
        "    counts = Counter()\n",
        "    for categories in df['categories']:\n",
        "        for cat in categories:\n",
        "            counts[cat] += 1\n",
        "\n",
        "    # 데이터프레임으로 변환\n",
        "    df_counts = pd.DataFrame(counts.items(), columns=['category', 'count']).set_index('category')\n",
        "    df_counts.rename(columns={'count': review_type}, inplace=True)\n",
        "    return df_counts\n",
        "\n",
        "pos_counts = aggregate_category_counts(df_pos, 'positive')\n",
        "neg_counts = aggregate_category_counts(df_neg, 'negative')"
      ],
      "metadata": {
        "id": "e6cSVHnt9BlE"
      },
      "execution_count": null,
      "outputs": []
    },
    {
      "cell_type": "code",
      "source": [
        "# 6. Contingency Table 생성 (병합)\n",
        "contingency_table = pd.merge(pos_counts, neg_counts, left_index=True, right_index=True, how='outer').fillna(0).astype(int)\n",
        "print(\"긍정 vs 부정 리뷰 카테고리별 빈도 교차표\")\n",
        "print(contingency_table.to_string())"
      ],
      "metadata": {
        "colab": {
          "base_uri": "https://localhost:8080/"
        },
        "id": "u5Q1ivUG9DF1",
        "outputId": "2ad6ec1b-0996-4bfd-db98-5a80f2c71b22"
      },
      "execution_count": null,
      "outputs": [
        {
          "output_type": "stream",
          "name": "stdout",
          "text": [
            "긍정 vs 부정 리뷰 카테고리별 빈도 교차표\n",
            "                  positive  negative\n",
            "category                            \n",
            "attraction           27361       487\n",
            "dirty                 7834      1491\n",
            "eat                  12529       521\n",
            "expensive             6726      1196\n",
            "facility_amenity     38234      3994\n",
            "noisy                  835       963\n",
            "other               229249     54024\n",
            "roomsize              5826      1780\n",
            "service             228724      5399\n",
            "transport           131376      1360\n"
          ]
        }
      ]
    },
    {
      "cell_type": "code",
      "source": [
        "### **2. 카이제곱 검정 실행**\n",
        "\n",
        "# Contingency Table을 Numpy 배열로 변환하여 카이제곱 검정 실행\n",
        "chi2, p_value, dof, expected = stats.chi2_contingency(contingency_table)\n",
        "\n",
        "print(\" 카이제곱 검정 결과: 긍정 vs 부정 리뷰 카테고리\")\n",
        "print(f\"Chi-square Statistic (카이제곱 통계량): {chi2:.2f}\")\n",
        "print(f\"p-value (p-값): {p_value:.10f}\")\n",
        "print(f\"Degrees of Freedom (자유도): {dof}\")"
      ],
      "metadata": {
        "colab": {
          "base_uri": "https://localhost:8080/"
        },
        "id": "jJ_x8KmN9SNl",
        "outputId": "ef621f3a-949f-464e-98b4-a8391f7a1712"
      },
      "execution_count": null,
      "outputs": [
        {
          "output_type": "stream",
          "name": "stdout",
          "text": [
            " 카이제곱 검정 결과: 긍정 vs 부정 리뷰 카테고리\n",
            "Chi-square Statistic (카이제곱 통계량): 65063.38\n",
            "p-value (p-값): 0.0000000000\n",
            "Degrees of Freedom (자유도): 9\n"
          ]
        }
      ]
    },
    {
      "cell_type": "code",
      "source": [],
      "metadata": {
        "id": "HTf8fHNB9axN"
      },
      "execution_count": null,
      "outputs": []
    }
  ]
}